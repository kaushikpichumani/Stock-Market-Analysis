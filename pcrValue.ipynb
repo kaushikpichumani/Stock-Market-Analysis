{
  "nbformat": 4,
  "nbformat_minor": 0,
  "metadata": {
    "colab": {
      "name": "pcrValue.ipynb",
      "provenance": [],
      "collapsed_sections": [],
      "authorship_tag": "ABX9TyPN6wnO0w85CINSnal/bNv7",
      "include_colab_link": true
    },
    "kernelspec": {
      "name": "python3",
      "display_name": "Python 3"
    },
    "language_info": {
      "name": "python"
    }
  },
  "cells": [
    {
      "cell_type": "markdown",
      "metadata": {
        "id": "view-in-github",
        "colab_type": "text"
      },
      "source": [
        "<a href=\"https://colab.research.google.com/github/kaushikpichumani/Stock-Market-Analysis/blob/main/pcrValue.ipynb\" target=\"_parent\"><img src=\"https://colab.research.google.com/assets/colab-badge.svg\" alt=\"Open In Colab\"/></a>"
      ]
    },
    {
      "cell_type": "code",
      "execution_count": 3,
      "metadata": {
        "id": "CkenEbnOmnS6"
      },
      "outputs": [],
      "source": [
        "import requests\n",
        "from bs4 import BeautifulSoup\n",
        "import pandas as pd\n",
        "from datetime import datetime\n",
        "import time\n",
        "import matplotlib.pyplot as plt\n",
        "from IPython.display import clear_output\n",
        "from pytz import timezone \n",
        "%matplotlib inline\n",
        "plt.rcParams['figure.figsize'] = [20, 10]\n",
        "timenew = []\n",
        "pcrVal = []\n",
        "callVal1 = []\n",
        "putVal1 = []\n",
        "diff = []"
      ]
    },
    {
      "cell_type": "code",
      "source": [
        "for i in range(370):\n",
        "    now = datetime.now(timezone(\"Asia/Kolkata\"))\n",
        "    clear_output(wait=True)\n",
        "    current_time = now.strftime(\"%H:%M:%S\")\n",
        "    timenew.append(current_time)\n",
        "    page=requests.get('https://www.moneycontrol.com/india/indexfutures/banknifty/23/?classic=true')\n",
        "    soup = BeautifulSoup(page.content,'html.parser')\n",
        "    price = soup.find('div', {'id': 'datatab3_1'}).get_text().split('\\n\\n')\n",
        "    callVal=(int(price[4].split('\\n')[2].replace(',','')))\n",
        "    callVal1.append(callVal)\n",
        "    putVal=(int(price[5].split('\\n')[2].replace(',','')))\n",
        "    putVal1.append(putVal)\n",
        "    diff.append(putVal-callVal)\n",
        "    plt.plot(timenew,diff,label='put-Call')\n",
        "    #plt.plot(timenew,putVal,label='put')\n",
        "    plt.legend()\n",
        "    plt.show()\n",
        "    time.sleep(60)"
      ],
      "metadata": {
        "colab": {
          "base_uri": "https://localhost:8080/",
          "height": 775
        },
        "id": "o_K-LA99mnum",
        "outputId": "55e61ba7-c90b-4fab-a3d2-740efa1ff0eb"
      },
      "execution_count": 4,
      "outputs": [
        {
          "output_type": "display_data",
          "data": {
            "image/png": "[encoded data removed]",
            "text/plain": [
              "<Figure size 1440x720 with 1 Axes>"
            ]
          },
          "metadata": {
            "needs_background": "light"
          }
        },
        {
          "output_type": "error",
          "ename": "KeyboardInterrupt",
          "evalue": "ignored",
          "traceback": [
            "\u001b[0;31m---------------------------------------------------------------------------\u001b[0m",
            "\u001b[0;31mKeyboardInterrupt\u001b[0m                         Traceback (most recent call last)",
            "\u001b[0;32m<ipython-input-4-75397f6d5d6d>\u001b[0m in \u001b[0;36m<module>\u001b[0;34m()\u001b[0m\n\u001b[1;32m     16\u001b[0m     \u001b[0mplt\u001b[0m\u001b[0;34m.\u001b[0m\u001b[0mlegend\u001b[0m\u001b[0;34m(\u001b[0m\u001b[0;34m)\u001b[0m\u001b[0;34m\u001b[0m\u001b[0;34m\u001b[0m\u001b[0m\n\u001b[1;32m     17\u001b[0m     \u001b[0mplt\u001b[0m\u001b[0;34m.\u001b[0m\u001b[0mshow\u001b[0m\u001b[0;34m(\u001b[0m\u001b[0;34m)\u001b[0m\u001b[0;34m\u001b[0m\u001b[0;34m\u001b[0m\u001b[0m\n\u001b[0;32m---> 18\u001b[0;31m     \u001b[0mtime\u001b[0m\u001b[0;34m.\u001b[0m\u001b[0msleep\u001b[0m\u001b[0;34m(\u001b[0m\u001b[0;36m60\u001b[0m\u001b[0;34m)\u001b[0m\u001b[0;34m\u001b[0m\u001b[0;34m\u001b[0m\u001b[0m\n\u001b[0m",
            "\u001b[0;31mKeyboardInterrupt\u001b[0m: "
          ]
        }
      ]
    },
    {
      "cell_type": "code",
      "source": [
        "df1 = pd.DataFrame()\n",
        "df1['diff']=diff\n",
        "df1['name']='BANKNIFTY'\n",
        "df1['callVal']=callVal1\n",
        "df1['putVal']=putVal1\n",
        "df1.to_csv('C:\\\\Users\\\\pkalyan\\\\Desktop\\\\docs\\\\callPut_03-01.csv')"
      ],
      "metadata": {
        "id": "CEM_iBV3mq5z"
      },
      "execution_count": null,
      "outputs": []
    }
  ]
}