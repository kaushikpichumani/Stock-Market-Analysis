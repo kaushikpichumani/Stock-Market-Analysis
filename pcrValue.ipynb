{
  "nbformat": 4,
  "nbformat_minor": 0,
  "metadata": {
    "colab": {
      "name": "pcrValue.ipynb",
      "provenance": [],
      "authorship_tag": "ABX9TyO+2qdIe793Uu8gvczZPKbB",
      "include_colab_link": true
    },
    "kernelspec": {
      "name": "python3",
      "display_name": "Python 3"
    },
    "language_info": {
      "name": "python"
    }
  },
  "cells": [
    {
      "cell_type": "markdown",
      "metadata": {
        "id": "view-in-github",
        "colab_type": "text"
      },
      "source": [
        "<a href=\"https://colab.research.google.com/github/kaushikpichumani/Stock-Market-Analysis/blob/main/pcrValue.ipynb\" target=\"_parent\"><img src=\"https://colab.research.google.com/assets/colab-badge.svg\" alt=\"Open In Colab\"/></a>"
      ]
    },
    {
      "cell_type": "code",
      "execution_count": 1,
      "metadata": {
        "id": "CkenEbnOmnS6"
      },
      "outputs": [],
      "source": [
        "import requests\n",
        "from bs4 import BeautifulSoup\n",
        "import pandas as pd\n",
        "from datetime import datetime\n",
        "import time\n",
        "import matplotlib.pyplot as plt\n",
        "from IPython.display import clear_output\n",
        "%matplotlib inline\n",
        "plt.rcParams['figure.figsize'] = [20, 10]\n",
        "timenew = []\n",
        "pcrVal = []\n",
        "callVal1 = []\n",
        "putVal1 = []\n",
        "diff = []"
      ]
    },
    {
      "cell_type": "code",
      "source": [
        "for i in range(370):\n",
        "    now = datetime.now()\n",
        "    clear_output(wait=True)\n",
        "    current_time = now.strftime(\"%H:%M:%S\")\n",
        "    timenew.append(current_time)\n",
        "    page=requests.get('https://www.moneycontrol.com/india/indexfutures/banknifty/23/?classic=true')\n",
        "    soup = BeautifulSoup(page.content,'html.parser')\n",
        "    price = soup.find('div', {'id': 'datatab3_1'}).get_text().split('\\n\\n')\n",
        "    callVal=(int(price[4].split('\\n')[2].replace(',','')))\n",
        "    callVal1.append(callVal)\n",
        "    putVal=(int(price[5].split('\\n')[2].replace(',','')))\n",
        "    putVal1.append(putVal)\n",
        "    diff.append(putVal-callVal)\n",
        "    plt.plot(timenew,diff,label='put-Call')\n",
        "    #plt.plot(timenew,putVal,label='put')\n",
        "    plt.legend()\n",
        "    plt.show()\n",
        "    time.sleep(60)"
      ],
      "metadata": {
        "colab": {
          "base_uri": "https://localhost:8080/",
          "height": 448
        },
        "id": "o_K-LA99mnum",
        "outputId": "b4bf0adc-76ae-49fc-ec5e-84e0f42bb0ba"
      },
      "execution_count": 2,
      "outputs": [
        {
          "output_type": "display_data",
          "data": {
            "image/png": "[encoded data removed]",
            "text/plain": [
              "<Figure size 432x288 with 1 Axes>"
            ]
          },
          "metadata": {
            "needs_background": "light"
          }
        },
        {
          "output_type": "error",
          "ename": "KeyboardInterrupt",
          "evalue": "ignored",
          "traceback": [
            "\u001b[0;31m---------------------------------------------------------------------------\u001b[0m",
            "\u001b[0;31mKeyboardInterrupt\u001b[0m                         Traceback (most recent call last)",
            "\u001b[0;32m<ipython-input-2-d9fcec80a8d5>\u001b[0m in \u001b[0;36m<module>\u001b[0;34m()\u001b[0m\n\u001b[1;32m     16\u001b[0m     \u001b[0mplt\u001b[0m\u001b[0;34m.\u001b[0m\u001b[0mlegend\u001b[0m\u001b[0;34m(\u001b[0m\u001b[0;34m)\u001b[0m\u001b[0;34m\u001b[0m\u001b[0;34m\u001b[0m\u001b[0m\n\u001b[1;32m     17\u001b[0m     \u001b[0mplt\u001b[0m\u001b[0;34m.\u001b[0m\u001b[0mshow\u001b[0m\u001b[0;34m(\u001b[0m\u001b[0;34m)\u001b[0m\u001b[0;34m\u001b[0m\u001b[0;34m\u001b[0m\u001b[0m\n\u001b[0;32m---> 18\u001b[0;31m     \u001b[0mtime\u001b[0m\u001b[0;34m.\u001b[0m\u001b[0msleep\u001b[0m\u001b[0;34m(\u001b[0m\u001b[0;36m60\u001b[0m\u001b[0;34m)\u001b[0m\u001b[0;34m\u001b[0m\u001b[0;34m\u001b[0m\u001b[0m\n\u001b[0m",
            "\u001b[0;31mKeyboardInterrupt\u001b[0m: "
          ]
        }
      ]
    },
    {
      "cell_type": "code",
      "source": [
        "df1 = pd.DataFrame()\n",
        "df1['diff']=diff\n",
        "df1['name']='BANKNIFTY'\n",
        "df1['callVal']=callVal1\n",
        "df1['putVal']=putVal1\n",
        "df1.to_csv('C:\\\\Users\\\\pkalyan\\\\Desktop\\\\docs\\\\callPut_03-01.csv')"
      ],
      "metadata": {
        "id": "CEM_iBV3mq5z"
      },
      "execution_count": null,
      "outputs": []
    }
  ]
}