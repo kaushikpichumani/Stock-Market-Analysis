{
  "nbformat": 4,
  "nbformat_minor": 0,
  "metadata": {
    "colab": {
      "name": "MinLevelStockData.ipynb",
      "provenance": [],
      "collapsed_sections": [],
      "authorship_tag": "ABX9TyPP46M0SZnGYWpt2kR0Shb9",
      "include_colab_link": true
    },
    "kernelspec": {
      "name": "python3",
      "display_name": "Python 3"
    },
    "language_info": {
      "name": "python"
    }
  },
  "cells": [
    {
      "cell_type": "markdown",
      "metadata": {
        "id": "view-in-github",
        "colab_type": "text"
      },
      "source": [
        "<a href=\"https://colab.research.google.com/github/kaushikpichumani/Stock-Market-Analysis/blob/main/MinLevelStockData.ipynb\" target=\"_parent\"><img src=\"https://colab.research.google.com/assets/colab-badge.svg\" alt=\"Open In Colab\"/></a>"
      ]
    },
    {
      "cell_type": "code",
      "execution_count": 7,
      "metadata": {
        "id": "cFc9AYq4lf1S"
      },
      "outputs": [],
      "source": [
        "import requests\n",
        "from bs4 import BeautifulSoup\n",
        "import pandas as pd\n",
        "from datetime import datetime\n",
        "import time\n",
        "import matplotlib.pyplot as plt\n",
        "from IPython.display import clear_output\n",
        "%matplotlib inline\n",
        "from pytz import timezone \n",
        "df = pd.DataFrame(pd.DataFrame(\n",
        "                  columns = ['name' , 'prevClose', 'price','time' ]))\n",
        "plt.rcParams['figure.figsize'] = [20, 10]\n",
        "from scipy.stats import pearsonr\n",
        "pcrVal=[]"
      ]
    },
    {
      "cell_type": "code",
      "source": [
        "for i in range(380):\n",
        "    now = datetime.now(timezone(\"Asia/Kolkata\"))\n",
        "    clear_output(wait=True)\n",
        "    current_time = now.strftime(\"%H:%M:%S\")\n",
        "    page=requests.get('https://www.moneycontrol.com/indian-indices/bank-nifty-23.html')\n",
        "    soup = BeautifulSoup(page.content,'html.parser')\n",
        "    prevClose = soup.find(\"span\", id=\"sp_previousclose\").get_text()\n",
        "    price = soup.find(class_=\"inprice1\").get_text()\n",
        "    page1=requests.get('https://www.moneycontrol.com/india/indexfutures/banknifty/23/?classic=true')\n",
        "    soup1 = BeautifulSoup(page1.content,'html.parser')\n",
        "    price1 = soup1.find(class_=\"tbldata\").get_text()\n",
        "    pcr = price1.split('\\n\\n')[6].split('\\n')[2]\n",
        "    print('PCR VAL:',pcr)\n",
        "    pcrVal.append(float(pcr))\n",
        "    df2 = pd.DataFrame({'name':['bankNifty'],'prevClose':[float(\" \".join(prevClose.split()).replace(',',''))],'price':[float(\" \".join(price.split()).replace(',',''))],'time':[current_time]})\n",
        "    df = df.append(df2)\n",
        "    df['PCR'] = pcrVal\n",
        "    \n",
        "    df['change']=round((((df['price'])-df['prevClose'])/df['prevClose'])*100,2)\n",
        "    #corr, _ = pearsonr(df['change'].tolist(),pcrVal)\n",
        "    #print('Pearsons correlation: %.3f' % corr)\n",
        "    plt.subplot(1, 2, 1)\n",
        "    plt.plot(df['time'],df['change'])\n",
        "    plt.subplot(1, 2, 2)\n",
        "    plt.plot(df['time'].tolist(),pcrVal)\n",
        "    plt.show()\n",
        "    time.sleep(60)\n",
        "    #plt.close(fig)\n",
        "    \n",
        "    \n"
      ],
      "metadata": {
        "colab": {
          "base_uri": "https://localhost:8080/",
          "height": 827
        },
        "id": "YxHMtQcMlio_",
        "outputId": "5a007a28-2908-41e1-dced-ee179fb2600d"
      },
      "execution_count": 8,
      "outputs": [
        {
          "output_type": "stream",
          "name": "stdout",
          "text": [
            "PCR VAL: 0.99\n"
          ]
        },
        {
          "output_type": "display_data",
          "data": {
            "image/png": "[encoded data removed]",
            "text/plain": [
              "<Figure size 1440x720 with 2 Axes>"
            ]
          },
          "metadata": {
            "needs_background": "light"
          }
        },
        {
          "output_type": "error",
          "ename": "KeyboardInterrupt",
          "evalue": "ignored",
          "traceback": [
            "\u001b[0;31m---------------------------------------------------------------------------\u001b[0m",
            "\u001b[0;31mKeyboardInterrupt\u001b[0m                         Traceback (most recent call last)",
            "\u001b[0;32m<ipython-input-8-5ce1b30d95da>\u001b[0m in \u001b[0;36m<module>\u001b[0;34m()\u001b[0m\n\u001b[1;32m     25\u001b[0m     \u001b[0mplt\u001b[0m\u001b[0;34m.\u001b[0m\u001b[0mplot\u001b[0m\u001b[0;34m(\u001b[0m\u001b[0mdf\u001b[0m\u001b[0;34m[\u001b[0m\u001b[0;34m'time'\u001b[0m\u001b[0;34m]\u001b[0m\u001b[0;34m.\u001b[0m\u001b[0mtolist\u001b[0m\u001b[0;34m(\u001b[0m\u001b[0;34m)\u001b[0m\u001b[0;34m,\u001b[0m\u001b[0mpcrVal\u001b[0m\u001b[0;34m)\u001b[0m\u001b[0;34m\u001b[0m\u001b[0;34m\u001b[0m\u001b[0m\n\u001b[1;32m     26\u001b[0m     \u001b[0mplt\u001b[0m\u001b[0;34m.\u001b[0m\u001b[0mshow\u001b[0m\u001b[0;34m(\u001b[0m\u001b[0;34m)\u001b[0m\u001b[0;34m\u001b[0m\u001b[0;34m\u001b[0m\u001b[0m\n\u001b[0;32m---> 27\u001b[0;31m     \u001b[0mtime\u001b[0m\u001b[0;34m.\u001b[0m\u001b[0msleep\u001b[0m\u001b[0;34m(\u001b[0m\u001b[0;36m60\u001b[0m\u001b[0;34m)\u001b[0m\u001b[0;34m\u001b[0m\u001b[0;34m\u001b[0m\u001b[0m\n\u001b[0m\u001b[1;32m     28\u001b[0m     \u001b[0;31m#plt.close(fig)\u001b[0m\u001b[0;34m\u001b[0m\u001b[0;34m\u001b[0m\u001b[0;34m\u001b[0m\u001b[0m\n\u001b[1;32m     29\u001b[0m \u001b[0;34m\u001b[0m\u001b[0m\n",
            "\u001b[0;31mKeyboardInterrupt\u001b[0m: "
          ]
        }
      ]
    },
    {
      "cell_type": "code",
      "source": [
        "df.to_csv('C:\\\\Users\\\\pkalyan\\\\Desktop\\\\docs\\\\stock_03-01.csv')"
      ],
      "metadata": {
        "id": "ZVUMEviIlnIR"
      },
      "execution_count": null,
      "outputs": []
    }
  ]
}