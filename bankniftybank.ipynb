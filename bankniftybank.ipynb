{
  "nbformat": 4,
  "nbformat_minor": 0,
  "metadata": {
    "colab": {
      "name": "bankniftybank.ipynb",
      "provenance": [],
      "collapsed_sections": [],
      "authorship_tag": "ABX9TyPD4xRyfu19cYkeGpYrW0jA",
      "include_colab_link": true
    },
    "kernelspec": {
      "name": "python3",
      "display_name": "Python 3"
    },
    "language_info": {
      "name": "python"
    }
  },
  "cells": [
    {
      "cell_type": "markdown",
      "metadata": {
        "id": "view-in-github",
        "colab_type": "text"
      },
      "source": [
        "<a href=\"https://colab.research.google.com/github/kaushikpichumani/Stock-Market-Analysis/blob/main/bankniftybank.ipynb\" target=\"_parent\"><img src=\"https://colab.research.google.com/assets/colab-badge.svg\" alt=\"Open In Colab\"/></a>"
      ]
    },
    {
      "cell_type": "code",
      "execution_count": 5,
      "metadata": {
        "id": "iD6jqwo7m-zt"
      },
      "outputs": [],
      "source": [
        "import requests\n",
        "from bs4 import BeautifulSoup\n",
        "import pandas as pd\n",
        "from datetime import datetime\n",
        "import time\n",
        "import matplotlib.pyplot as plt\n",
        "from IPython.display import clear_output\n",
        "%matplotlib inline\n",
        "from pytz import timezone \n",
        "from google.colab import drive\n",
        "drive.mount('/content/gdrive')\n",
        "plt.rcParams['figure.figsize'] = [20, 10]\n",
        "bank = ['SBI','HDFC','AXIS','ICICI','KOTAK','INDUSIND','AU SMALL FIN','BANDHAN','FEDRAL','IDFC','PNB','RBL']\n",
        "website = ['https://www.moneycontrol.com/india/stockpricequote/banks-public-sector/statebankindia/SBI','https://www.moneycontrol.com/india/stockpricequote/banks-private-sector/hdfcbank/HDF01','https://www.moneycontrol.com/india/stockpricequote/banks-private-sector/axisbank/AB16','https://www.moneycontrol.com/india/stockpricequote/banks-private-sector/icicibank/ICI02','https://www.moneycontrol.com/india/stockpricequote/banks-private-sector/kotakmahindrabank/KMB','https://www.moneycontrol.com/india/stockpricequote/banks-private-sector/indusindbank/IIB','https://www.moneycontrol.com/india/stockpricequote/banks-private-sector/ausmallfinancebank/ASF02','https://www.moneycontrol.com/india/stockpricequote/banks-private-sector/bandhanbank/BB09','https://www.moneycontrol.com/india/stockpricequote/banks-private-sector/federalbank/FB','https://www.moneycontrol.com/india/stockpricequote/banks-private-sector/idfcfirstbank/IDF01','https://www.moneycontrol.com/india/stockpricequote/banks-public-sector/punjabnationalbank/PNB05','https://www.moneycontrol.com/india/stockpricequote/banks-private-sector/rblbank/RB03']\n",
        "weight = ['13.89','27.51','11.08','22.36','12.99','4.41','1.99','1.52','1.43','1.15','0.92','0.75']\n",
        "columns = ['name' , 'prevClose', 'price','time','weight' ]\n",
        "df6 = pd.DataFrame(pd.DataFrame(\n",
        "                  columns = columns))"
      ]
    },
    {
      "cell_type": "code",
      "source": [
        "for i in range(380):    \n",
        "    now = datetime.now(timezone(\"Asia/Kolkata\"))\n",
        "    current_time = now.strftime(\"%H:%M:%S\")\n",
        "    lst = []\n",
        "    for i in range(len(website)):\n",
        "        page=requests.get(website[i])\n",
        "        soup = BeautifulSoup(page.content,'html.parser')\n",
        "        wt = weight[i]\n",
        "        #diff = soup.find(class_=\"pricupdn nsechange red\").get_text().split(' ')\n",
        "        price = soup.find(class_=\"inprice1\").get_text()\n",
        "        prevClose = soup.find(class_=\"nseprvclose bseprvclose\").get_text()#df4 = pd.DataFrame({'name':[bank[i]],'prevClose':float(prevClose.replace(',','')),'price':float(price.replace(',','')),'time':current_time,'weight':wt})\n",
        "        lst.append([bank[i],float(prevClose.replace(',','')),float(price.replace(',','')),current_time,float(wt)])\n",
        "    df3=pd.DataFrame(lst,columns=columns)\n",
        "    df3['change']=((df3['price']-df3['prevClose'])/df3['prevClose'])*100\n",
        "    total = sum(df3['weight'])\n",
        "    df3['weightAccount'] = (df3['change']*df3['weight'])/float(total)\n",
        "    df6 = df6.append(df3)\n",
        "    df6.sort_values('weight', ascending=False,inplace = True)\n",
        "    country_set = set(df6['name'])\n",
        "\n",
        "    df6.sort_values('weight', ascending=False,inplace = True)\n",
        "    df7 = df6[['name','time','weightAccount']]\n",
        "    df8 = df7.pivot_table('weightAccount', 'name','time')\n",
        "    df8.reset_index(drop=True, inplace=True)\n",
        "    df8.insert(0, 'name',bank)\n",
        "    #df8['name'] = bank\n",
        "    \n",
        "    clear_output(wait=True)   \n",
        "    print(\"Given Dataframe :\\n\",sum(df3.weightAccount),\"\\n\",df8)\n",
        "    time.sleep(60)\n",
        "    "
      ],
      "metadata": {
        "colab": {
          "base_uri": "https://localhost:8080/",
          "height": 478
        },
        "id": "nh-r6md2nALO",
        "outputId": "3bf0be09-5c06-4dfd-b819-b095c23f5d33"
      },
      "execution_count": 6,
      "outputs": [
        {
          "output_type": "stream",
          "name": "stdout",
          "text": [
            "Given Dataframe :\n",
            " 1.246551657737803 \n",
            " time          name  14:19:42  14:20:51\n",
            "0              SBI -0.013065 -0.013065\n",
            "1             HDFC  0.160688  0.160688\n",
            "2             AXIS  0.023826  0.023826\n",
            "3            ICICI  0.013917  0.013917\n",
            "4            KOTAK  0.336934  0.336934\n",
            "5         INDUSIND  0.135248  0.135248\n",
            "6     AU SMALL FIN  0.020579  0.020579\n",
            "7          BANDHAN  0.013697  0.013697\n",
            "8           FEDRAL  0.302317  0.302317\n",
            "9             IDFC  0.003715  0.003715\n",
            "10             PNB -0.020371 -0.020371\n",
            "11             RBL  0.269067  0.269067\n"
          ]
        },
        {
          "output_type": "error",
          "ename": "KeyboardInterrupt",
          "evalue": "ignored",
          "traceback": [
            "\u001b[0;31m---------------------------------------------------------------------------\u001b[0m",
            "\u001b[0;31mKeyboardInterrupt\u001b[0m                         Traceback (most recent call last)",
            "\u001b[0;32m<ipython-input-6-1c451c93b3bc>\u001b[0m in \u001b[0;36m<module>\u001b[0;34m()\u001b[0m\n\u001b[1;32m     28\u001b[0m     \u001b[0mclear_output\u001b[0m\u001b[0;34m(\u001b[0m\u001b[0mwait\u001b[0m\u001b[0;34m=\u001b[0m\u001b[0;32mTrue\u001b[0m\u001b[0;34m)\u001b[0m\u001b[0;34m\u001b[0m\u001b[0;34m\u001b[0m\u001b[0m\n\u001b[1;32m     29\u001b[0m     \u001b[0mprint\u001b[0m\u001b[0;34m(\u001b[0m\u001b[0;34m\"Given Dataframe :\\n\"\u001b[0m\u001b[0;34m,\u001b[0m\u001b[0msum\u001b[0m\u001b[0;34m(\u001b[0m\u001b[0mdf3\u001b[0m\u001b[0;34m.\u001b[0m\u001b[0mweightAccount\u001b[0m\u001b[0;34m)\u001b[0m\u001b[0;34m,\u001b[0m\u001b[0;34m\"\\n\"\u001b[0m\u001b[0;34m,\u001b[0m\u001b[0mdf8\u001b[0m\u001b[0;34m)\u001b[0m\u001b[0;34m\u001b[0m\u001b[0;34m\u001b[0m\u001b[0m\n\u001b[0;32m---> 30\u001b[0;31m     \u001b[0mtime\u001b[0m\u001b[0;34m.\u001b[0m\u001b[0msleep\u001b[0m\u001b[0;34m(\u001b[0m\u001b[0;36m60\u001b[0m\u001b[0;34m)\u001b[0m\u001b[0;34m\u001b[0m\u001b[0;34m\u001b[0m\u001b[0m\n\u001b[0m\u001b[1;32m     31\u001b[0m \u001b[0;34m\u001b[0m\u001b[0m\n",
            "\u001b[0;31mKeyboardInterrupt\u001b[0m: "
          ]
        }
      ]
    },
    {
      "cell_type": "code",
      "source": [
        "df6.to_csv('gdrive/My Drive/StockData/BANKNIFTYVALUE/banks_03-01.csv')"
      ],
      "metadata": {
        "id": "DSfQTp2YnEAM"
      },
      "execution_count": null,
      "outputs": []
    }
  ]
}